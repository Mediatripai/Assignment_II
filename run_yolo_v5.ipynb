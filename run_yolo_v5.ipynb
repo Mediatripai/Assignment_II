{
  "nbformat": 4,
  "nbformat_minor": 0,
  "metadata": {
    "colab": {
      "provenance": [],
      "include_colab_link": true
    },
    "kernelspec": {
      "name": "python3",
      "display_name": "Python 3"
    },
    "language_info": {
      "name": "python"
    }
  },
  "cells": [
    {
      "cell_type": "markdown",
      "metadata": {
        "id": "view-in-github",
        "colab_type": "text"
      },
      "source": [
        "<a href=\"https://colab.research.google.com/github/Mediatripai/Assignment_II/blob/main/run_yolo_v5.ipynb\" target=\"_parent\"><img src=\"https://colab.research.google.com/assets/colab-badge.svg\" alt=\"Open In Colab\"/></a>"
      ]
    },
    {
      "cell_type": "code",
      "metadata": {
        "id": "NSFQrv-Kt9lF",
        "colab": {
          "base_uri": "https://localhost:8080/"
        },
        "outputId": "03dbb1c3-3d9c-48c0-b003-7777ff89dacf"
      },
      "source": [
        "# Installtion\n",
        "\n",
        "!pip install numpy>=1.18.5\n",
        "!pip install opencv-python>=4.1.2\n",
        "!pip install Pillow\n",
        "!pip install PyYAML>=5.3.1\n",
        "!pip install scipy>=1.4.1\n",
        "!pip install torchvision>=0.8.1\n",
        "!pip install tensorflow>=2.4.1\n"
      ],
      "execution_count": 3,
      "outputs": [
        {
          "output_type": "stream",
          "name": "stdout",
          "text": [
            "Requirement already satisfied: Pillow in /usr/local/lib/python3.10/dist-packages (9.4.0)\n"
          ]
        }
      ]
    },
    {
      "cell_type": "code",
      "metadata": {
        "id": "959rW4oYuYfB",
        "colab": {
          "base_uri": "https://localhost:8080/"
        },
        "outputId": "15a8fbc6-6157-441c-cfe8-c3638739854f"
      },
      "source": [
        "# download image and coco yaml file from here\n",
        "!wget https://drive.google.com/file/d/17INCjxMcI8MzBeaWXm9g4DYUxn9AIzva/view?usp=sharing\n",
        "\n",
        "!wget https://drive.google.com/file/d/1IaQAmzv2v7Fnwqpiy-42CVdETkooxH64/view?usp=sharing\n",
        "\n"
      ],
      "execution_count": 4,
      "outputs": [
        {
          "output_type": "stream",
          "name": "stdout",
          "text": [
            "--2024-09-10 18:10:31--  https://drive.google.com/file/d/17INCjxMcI8MzBeaWXm9g4DYUxn9AIzva/view?usp=sharing\n",
            "Resolving drive.google.com (drive.google.com)... 74.125.204.113, 74.125.204.138, 74.125.204.101, ...\n",
            "Connecting to drive.google.com (drive.google.com)|74.125.204.113|:443... connected.\n",
            "HTTP request sent, awaiting response... 200 OK\n",
            "Length: unspecified [text/html]\n",
            "Saving to: ‘view?usp=sharing’\n",
            "\n",
            "view?usp=sharing        [ <=>                ]  86.50K  --.-KB/s    in 0.04s   \n",
            "\n",
            "2024-09-10 18:10:33 (2.25 MB/s) - ‘view?usp=sharing’ saved [88581]\n",
            "\n",
            "--2024-09-10 18:10:33--  https://drive.google.com/file/d/1IaQAmzv2v7Fnwqpiy-42CVdETkooxH64/view?usp=sharing\n",
            "Resolving drive.google.com (drive.google.com)... 74.125.204.113, 74.125.204.138, 74.125.204.101, ...\n",
            "Connecting to drive.google.com (drive.google.com)|74.125.204.113|:443... connected.\n",
            "HTTP request sent, awaiting response... 200 OK\n",
            "Length: unspecified [text/html]\n",
            "Saving to: ‘view?usp=sharing.1’\n",
            "\n",
            "view?usp=sharing.1      [ <=>                ]  86.70K  --.-KB/s    in 0.04s   \n",
            "\n",
            "2024-09-10 18:10:34 (2.22 MB/s) - ‘view?usp=sharing.1’ saved [88777]\n",
            "\n"
          ]
        }
      ]
    },
    {
      "cell_type": "code",
      "metadata": {
        "id": "zEmIsNZ3uYi2"
      },
      "source": [
        "import argparse\n",
        "from pathlib import Path\n",
        "import tensorflow as tf\n",
        "import cv2\n",
        "import torch\n",
        "import yaml\n",
        "import numpy as np\n",
        "import torchvision\n",
        "import time\n",
        "import os\n",
        "import glob\n",
        "\n",
        "img_formats = ['bmp', 'jpg', 'jpeg', 'png', 'tif', 'tiff', 'dng', 'webp', 'mpo']  # acceptable image suffixes\n",
        "vid_formats = ['mov', 'avi', 'mp4', 'mpg', 'mpeg', 'm4v', 'wmv', 'mkv']  # acceptable video suffixes\n",
        "\n",
        "def dataset_letterbox(img, new_shape=(640, 640), color=(114, 114, 114), auto=True, scaleFill=False, scaleup=True, stride=32):\n",
        "    # Resize and pad image while meeting stride-multiple constraints\n",
        "    shape = img.shape[:2]  # current shape [height, width]\n",
        "    if isinstance(new_shape, int):\n",
        "        new_shape = (new_shape, new_shape)\n",
        "\n",
        "    # Scale ratio (new / old)\n",
        "    r = min(new_shape[0] / shape[0], new_shape[1] / shape[1])\n",
        "    if not scaleup:  # only scale down, do not scale up (for better test mAP)\n",
        "        r = min(r, 1.0)\n",
        "\n",
        "    # Compute padding\n",
        "    ratio = r, r  # width, height ratios\n",
        "    new_unpad = int(round(shape[1] * r)), int(round(shape[0] * r))\n",
        "    dw, dh = new_shape[1] - new_unpad[0], new_shape[0] - new_unpad[1]  # wh padding\n",
        "    if auto:  # minimum rectangle\n",
        "        dw, dh = np.mod(dw, stride), np.mod(dh, stride)  # wh padding\n",
        "    elif scaleFill:  # stretch\n",
        "        dw, dh = 0.0, 0.0\n",
        "        new_unpad = (new_shape[1], new_shape[0])\n",
        "        ratio = new_shape[1] / shape[1], new_shape[0] / shape[0]  # width, height ratios\n",
        "\n",
        "    dw /= 2  # divide padding into 2 sides\n",
        "    dh /= 2\n",
        "\n",
        "    if shape[::-1] != new_unpad:  # resize\n",
        "        img = cv2.resize(img, new_unpad, interpolation=cv2.INTER_LINEAR)\n",
        "    top, bottom = int(round(dh - 0.1)), int(round(dh + 0.1))\n",
        "    left, right = int(round(dw - 0.1)), int(round(dw + 0.1))\n",
        "    img = cv2.copyMakeBorder(img, top, bottom, left, right, cv2.BORDER_CONSTANT, value=color)  # add border\n",
        "    return img, ratio, (dw, dh)\n",
        "\n",
        "class LoadImages:  # for inference\n",
        "    def __init__(self, path, img_size=640, stride=32, auto=True):\n",
        "        p = str(Path(path).absolute())  # os-agnostic absolute path\n",
        "        if '*' in p:\n",
        "            files = sorted(glob.glob(p, recursive=True))  # glob\n",
        "        elif os.path.isdir(p):\n",
        "            files = sorted(glob.glob(os.path.join(p, '*.*')))  # dir\n",
        "        elif os.path.isfile(p):\n",
        "            files = [p]  # files\n",
        "        else:\n",
        "            raise Exception(f'ERROR: {p} does not exist')\n",
        "\n",
        "        images = [x for x in files if x.split('.')[-1].lower() in img_formats]\n",
        "        videos = [x for x in files if x.split('.')[-1].lower() in vid_formats]\n",
        "        ni, nv = len(images), len(videos)\n",
        "\n",
        "        self.img_size = img_size\n",
        "        self.stride = stride\n",
        "        self.files = images + videos\n",
        "        self.nf"
      ],
      "execution_count": 7,
      "outputs": []
    },
    {
      "cell_type": "code",
      "metadata": {
        "id": "z98X6gWRuYlp",
        "outputId": "eedf07ff-8c04-442d-c85b-9359bd0559d2",
        "colab": {
          "base_uri": "https://localhost:8080/",
          "height": 564
        }
      },
      "source": [
        "# prompt: Create a program that will run a simulation of two dice rolling 1000 with a visualization\n",
        "\n",
        "import random\n",
        "import matplotlib.pyplot as plt\n",
        "\n",
        "# Initialize lists to store results\n",
        "results = []\n",
        "counts = [0] * 11  # To store counts for each sum (2 to 12)\n",
        "\n",
        "# Simulate 1000 dice rolls\n",
        "for _ in range(1000):\n",
        "  die1 = random.randint(1, 6)\n",
        "  die2 = random.randint(1, 6)\n",
        "  total = die1 + die2\n",
        "  results.append(total)\n",
        "  counts[total - 2] += 1\n",
        "\n",
        "# Create a bar chart visualization\n",
        "plt.figure(figsize=(10, 6))\n",
        "plt.bar(range(2, 13), counts)\n",
        "plt.xlabel(\"Sum of Dice\")\n",
        "plt.ylabel(\"Frequency\")\n",
        "plt.title(\"Simulation of Two Dice Rolls (1000 trials)\")\n",
        "plt.show()\n"
      ],
      "execution_count": 8,
      "outputs": [
        {
          "output_type": "display_data",
          "data": {
            "text/plain": [
              "<Figure size 1000x600 with 1 Axes>"
            ],
            "image/png": "[encoded data removed]"
          },
          "metadata": {}
        }
      ]
    }
  ]
}